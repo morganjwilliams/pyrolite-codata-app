{
 "cells": [
  {
   "cell_type": "code",
   "execution_count": null,
   "id": "8e478c86-f6aa-4b29-ab9b-035904d7bb72",
   "metadata": {},
   "outputs": [],
   "source": [
    "%matplotlib widget\n",
    "from components import MainWindow\n",
    "\n",
    "with open(\"./src/styling.css\") as f:\n",
    "    style = f.read()\n",
    "    \n",
    "window = MainWindow(css = style) # the css/HTML needs to be displayed..\n",
    "window.box"
   ]
  }
 ],
 "metadata": {
  "kernelspec": {
   "display_name": "gsq",
   "language": "python",
   "name": "gsq"
  },
  "language_info": {
   "codemirror_mode": {
    "name": "ipython",
    "version": 3
   },
   "file_extension": ".py",
   "mimetype": "text/x-python",
   "name": "python",
   "nbconvert_exporter": "python",
   "pygments_lexer": "ipython3",
   "version": "3.7.10"
  }
 },
 "nbformat": 4,
 "nbformat_minor": 5
}
