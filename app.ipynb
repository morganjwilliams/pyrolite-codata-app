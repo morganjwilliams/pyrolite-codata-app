{
 "cells": [
  {
   "cell_type": "code",
   "execution_count": null,
   "id": "60201653-431c-461c-9dce-4e56e650d866",
   "metadata": {},
   "outputs": [],
   "source": [
    "%matplotlib widget"
   ]
  },
  {
   "cell_type": "code",
   "execution_count": null,
   "id": "83c75e04",
   "metadata": {},
   "outputs": [],
   "source": [
    "%%html\n",
    "<style>\n",
    ".jupyter-widgets.widget-tab > .p-TabBar .p-TabBar-tab {\n",
    "    flex: 0 1 300px\n",
    "}\n",
    ".widget-radio-box {\n",
    "    flex-direction: row !important;     \n",
    "}\n",
    ".widget-radio-box label{\n",
    "    margin:5px !important;\n",
    "}\n",
    "</style>"
   ]
  },
  {
   "cell_type": "code",
   "execution_count": null,
   "id": "8e478c86-f6aa-4b29-ab9b-035904d7bb72",
   "metadata": {},
   "outputs": [],
   "source": [
    "from components import MainWindow\n",
    "        \n",
    "window = MainWindow()\n",
    "window.box"
   ]
  }
 ],
 "metadata": {
  "kernelspec": {
   "display_name": "gsq",
   "language": "python",
   "name": "gsq"
  },
  "language_info": {
   "codemirror_mode": {
    "name": "ipython",
    "version": 3
   },
   "file_extension": ".py",
   "mimetype": "text/x-python",
   "name": "python",
   "nbconvert_exporter": "python",
   "pygments_lexer": "ipython3",
   "version": "3.7.10"
  }
 },
 "nbformat": 4,
 "nbformat_minor": 5
}
