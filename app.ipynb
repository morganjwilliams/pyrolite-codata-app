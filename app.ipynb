{
 "cells": [
  {
   "cell_type": "code",
   "execution_count": 5,
   "id": "8e478c86-f6aa-4b29-ab9b-035904d7bb72",
   "metadata": {},
   "outputs": [
    {
     "data": {
      "application/vnd.jupyter.widget-view+json": {
       "model_id": "fd0ecabaa8c34d7b803c0e017d296938",
       "version_major": 2,
       "version_minor": 0
      },
      "text/plain": [
       "VBox(children=(Box(children=(HTML(value='\\n<h1>pyrolite Compositional Data Transformer</h1>\\n<div id=\\'descrip…"
      ]
     },
     "metadata": {},
     "output_type": "display_data"
    }
   ],
   "source": [
    "%matplotlib widget\n",
    "from IPython.display import HTML\n",
    "from components import MainWindow\n",
    "\n",
    "with open(\"./src/styling.css\") as f:\n",
    "    style = f.read()\n",
    "    \n",
    "HTML(style)\n",
    "\n",
    "window = MainWindow()\n",
    "window.box"
   ]
  }
 ],
 "metadata": {
  "kernelspec": {
   "display_name": "gsq",
   "language": "python",
   "name": "gsq"
  },
  "language_info": {
   "codemirror_mode": {
    "name": "ipython",
    "version": 3
   },
   "file_extension": ".py",
   "mimetype": "text/x-python",
   "name": "python",
   "nbconvert_exporter": "python",
   "pygments_lexer": "ipython3",
   "version": "3.7.10"
  }
 },
 "nbformat": 4,
 "nbformat_minor": 5
}
